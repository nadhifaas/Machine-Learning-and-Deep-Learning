{
  "nbformat": 4,
  "nbformat_minor": 0,
  "metadata": {
    "colab": {
      "provenance": []
    },
    "kernelspec": {
      "name": "python3",
      "display_name": "Python 3"
    },
    "language_info": {
      "name": "python"
    }
  },
  "cells": [
    {
      "cell_type": "code",
      "execution_count": null,
      "metadata": {
        "id": "wZsaDmUOMWoN"
      },
      "outputs": [],
      "source": [
        "import torch\n",
        "import torch.nn as nn\n",
        "import torch.nn.functional as F\n",
        "\n",
        "from torch.utils.data import DataLoader\n",
        "from torchvision import datasets, transforms\n",
        "\n",
        "import numpy as np\n",
        "import pandas as pd\n",
        "from sklearn.metrics import confusion_matrix\n",
        "import matplotlib.pyplot as plt\n",
        "%matplotlib inline\n",
        "from sklearn.metrics import accuracy_score, confusion_matrix,  classification_report"
      ]
    },
    {
      "cell_type": "markdown",
      "source": [
        "#● Loading your MNIST dataset for the data loader\n"
      ],
      "metadata": {
        "id": "KtrFhcltMr86"
      }
    },
    {
      "cell_type": "code",
      "source": [
        "transform = transforms.Compose([transforms.ToTensor(), transforms.Normalize((0.5,), (0.5,))])\n",
        "\n",
        "batch_size = 64\n",
        "train_dataset = torchvision.datasets.MNIST(root='./data', train=True, transform=transform, download=True)\n",
        "train_loader = torch.utils.data.DataLoader(train_dataset, batch_size=batch_size, shuffle=True)\n",
        "\n",
        "test_dataset = torchvision.datasets.MNIST(root='./data', train=False, transform=transform, download=True)\n",
        "test_loader = torch.utils.data.DataLoader(test_dataset, batch_size=batch_size, shuffle=False)"
      ],
      "metadata": {
        "id": "zBG_2ZsXNMSb"
      },
      "execution_count": null,
      "outputs": []
    },
    {
      "cell_type": "markdown",
      "source": [
        "#● Visualize several MNIST datasets"
      ],
      "metadata": {
        "id": "Jonr8qVQNdls"
      }
    },
    {
      "cell_type": "code",
      "source": [
        "import matplotlib.pyplot as plt\n",
        "\n",
        "# Assuming axs is a list of subplots\n",
        "fig, axs = plt.subplots(1, 8, figsize=(12, 5))\n",
        "\n",
        "# Get a batch of training data\n",
        "dataiter = iter(train_loader)\n",
        "images, labels = next(dataiter)\n",
        "\n",
        "# Show the images with their labels\n",
        "for i in range(8):\n",
        "    axs[i].imshow(images[i].numpy().squeeze(), cmap='magma')  # Assuming cmap='gray' for grayscale images\n",
        "    axs[i].set_title(f\"Label: {labels[i].item()}\")\n",
        "    axs[i].axis('off')\n",
        "\n",
        "plt.show()"
      ],
      "metadata": {
        "colab": {
          "base_uri": "https://localhost:8080/",
          "height": 158
        },
        "id": "QBXKWO4VNhca",
        "outputId": "b9e88cb2-d7ab-4226-fb1a-2397969ac610"
      },
      "execution_count": null,
      "outputs": [
        {
          "output_type": "display_data",
          "data": {
            "text/plain": [
              "<Figure size 1200x500 with 8 Axes>"
            ],
            "image/png": "[encoded data removed]"
          },
          "metadata": {}
        }
      ]
    },
    {
      "cell_type": "markdown",
      "source": [
        "# ● Design your Neural Network model\n",
        "\n",
        "\n"
      ],
      "metadata": {
        "id": "G3w2RMU_Nu36"
      }
    },
    {
      "cell_type": "code",
      "source": [
        "class Net(nn.Module):\n",
        "    def __init__(self):\n",
        "        super(Net, self).__init__()\n",
        "        self.fc1 = nn.Linear(28 * 28, 128)\n",
        "        self.relu = nn.ReLU()\n",
        "        self.fc2 = nn.Linear(128, 10)\n",
        "\n",
        "    def forward(self, x):\n",
        "        x = x.view(-1, 28 * 28)\n",
        "        x = self.fc1(x)\n",
        "        x = self.relu(x)\n",
        "        x = self.fc2(x)\n",
        "        return x\n",
        "\n",
        "net = Net()"
      ],
      "metadata": {
        "id": "D5PcmogJNy3f"
      },
      "execution_count": null,
      "outputs": []
    },
    {
      "cell_type": "markdown",
      "source": [
        "# ● Setup your hyperparameter such as Loss Function, Optimizer,Learning Rate, etc"
      ],
      "metadata": {
        "id": "jZ-hxBOdOIME"
      }
    },
    {
      "cell_type": "code",
      "source": [
        "criterion = nn.CrossEntropyLoss()\n",
        "optimizer = optim.SGD(net.parameters(), lr=0.001)"
      ],
      "metadata": {
        "id": "1uAzAArKOMGL"
      },
      "execution_count": null,
      "outputs": []
    },
    {
      "cell_type": "markdown",
      "source": [
        "# ● Develop a training loop and run a training model"
      ],
      "metadata": {
        "id": "38OsapeoOfch"
      }
    },
    {
      "cell_type": "code",
      "source": [
        "epochs = 20\n",
        "for epoch in range (epochs):\n",
        "  running_loss = 0.0\n",
        "  for i, data in enumerate (train_loader, 0):\n",
        "    inputs, labels = data\n",
        "    optimizer.zero_grad()\n",
        "    outputs = net(inputs)\n",
        "    loss = criterion (outputs, labels)\n",
        "    loss.backward()\n",
        "    optimizer.step()\n",
        "    running_loss += loss.item()\n",
        "  print (f'Epoch {epoch + 1}, Loss: {running_loss / len(train_loader)}')"
      ],
      "metadata": {
        "colab": {
          "base_uri": "https://localhost:8080/"
        },
        "id": "T-BQ7DhsOjGZ",
        "outputId": "2cb3c612-5261-415c-df68-90814d1c12d1"
      },
      "execution_count": null,
      "outputs": [
        {
          "output_type": "stream",
          "name": "stdout",
          "text": [
            "Epoch 1, Loss: 1.9561892172166788\n",
            "Epoch 2, Loss: 1.2572896282301782\n",
            "Epoch 3, Loss: 0.8537660051129266\n",
            "Epoch 4, Loss: 0.6701004388871223\n",
            "Epoch 5, Loss: 0.5735679497914528\n",
            "Epoch 6, Loss: 0.515235813854854\n",
            "Epoch 7, Loss: 0.4759713702364517\n",
            "Epoch 8, Loss: 0.4481012332541094\n",
            "Epoch 9, Loss: 0.42677867495174854\n",
            "Epoch 10, Loss: 0.41042298358132334\n",
            "Epoch 11, Loss: 0.3968493345417956\n",
            "Epoch 12, Loss: 0.3858721314399227\n",
            "Epoch 13, Loss: 0.3764636609345865\n",
            "Epoch 14, Loss: 0.3685142537678229\n",
            "Epoch 15, Loss: 0.36135286923601173\n",
            "Epoch 16, Loss: 0.3549843134402212\n",
            "Epoch 17, Loss: 0.34938279320118526\n",
            "Epoch 18, Loss: 0.3445456071591962\n",
            "Epoch 19, Loss: 0.3398242680423422\n",
            "Epoch 20, Loss: 0.33565784263204157\n"
          ]
        }
      ]
    },
    {
      "cell_type": "markdown",
      "source": [
        "# ● Develop a training loop and run a training model"
      ],
      "metadata": {
        "id": "ov7nHqYhPnmp"
      }
    },
    {
      "cell_type": "code",
      "source": [
        "correct = 0\n",
        "total = 0\n",
        "all_labels = []\n",
        "all_preds = []\n",
        "\n",
        "with torch.no_grad():\n",
        "  for data in test_loader:\n",
        "    images, labels = data\n",
        "    outputs = net (images)\n",
        "    _, predicted = torch.max(outputs.data, 1)\n",
        "    total += labels.size(0)\n",
        "    correct += (predicted == labels).sum().item()\n",
        "    all_labels.extend(labels.numpy())\n",
        "    all_preds.extend(predicted.numpy())\n",
        "\n",
        "accuracy = correct/total\n",
        "confusion = confusion_matrix(all_labels, all_preds)\n",
        "classification_report_str = classification_report(all_labels, all_preds)\n",
        "\n",
        "print (f'Accuracy: {accuracy * 100}%')\n",
        "print('Confusion Matrix:')\n",
        "print(confusion)\n",
        "print('Classification Report:')\n",
        "print(classification_report_str)"
      ],
      "metadata": {
        "colab": {
          "base_uri": "https://localhost:8080/"
        },
        "id": "wBOE3QlGPqpc",
        "outputId": "f61a5446-8efe-41a9-ec9e-c6bb50b11a8f"
      },
      "execution_count": null,
      "outputs": [
        {
          "output_type": "stream",
          "name": "stdout",
          "text": [
            "Accuracy: 90.9%\n",
            "Confusion Matrix:\n",
            "[[ 960    0    2    2    0    7    5    1    3    0]\n",
            " [   0 1099    2    2    0    2    4    1   25    0]\n",
            " [  11    9  899   16   17    3   17   16   37    7]\n",
            " [   4    1   21  905    0   32    1   16   22    8]\n",
            " [   1    5    5    2  901    1   12    2   11   42]\n",
            " [  12    2    4   44    8  762   17    8   28    7]\n",
            " [  12    3    7    0   15   18  896    2    5    0]\n",
            " [   3   13   28    5    9    0    0  934    3   33]\n",
            " [   9    6    7   29   10   28   16    9  849   11]\n",
            " [  14    6    4   11   46    8    1   25    9  885]]\n",
            "Classification Report:\n",
            "              precision    recall  f1-score   support\n",
            "\n",
            "           0       0.94      0.98      0.96       980\n",
            "           1       0.96      0.97      0.96      1135\n",
            "           2       0.92      0.87      0.89      1032\n",
            "           3       0.89      0.90      0.89      1010\n",
            "           4       0.90      0.92      0.91       982\n",
            "           5       0.89      0.85      0.87       892\n",
            "           6       0.92      0.94      0.93       958\n",
            "           7       0.92      0.91      0.91      1028\n",
            "           8       0.86      0.87      0.86       974\n",
            "           9       0.89      0.88      0.88      1009\n",
            "\n",
            "    accuracy                           0.91     10000\n",
            "   macro avg       0.91      0.91      0.91     10000\n",
            "weighted avg       0.91      0.91      0.91     10000\n",
            "\n"
          ]
        }
      ]
    },
    {
      "cell_type": "markdown",
      "source": [
        "# ● Describe and explain your Result\n",
        "\n",
        "\n",
        "\n"
      ],
      "metadata": {
        "id": "zVaXEmmVSAyE"
      }
    },
    {
      "cell_type": "markdown",
      "source": [
        "Akurasi model yang didapatkan sebesar 90,9% sehingga dapat disimpulkan bahwa metode deep learning dapat digunakan untuk memperkirakan pendeteksian tulisan tangan dengan akurasi >90%"
      ],
      "metadata": {
        "id": "Scg2cmUNSDn6"
      }
    }
  ]
}